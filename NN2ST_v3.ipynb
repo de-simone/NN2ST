{
 "cells": [
  {
   "cell_type": "markdown",
   "metadata": {},
   "source": [
    "***\n",
    "# <font color=blue> Two-Sample Test with  Nearest-Neighbors Density Ratio Estimation</font>\n",
    "\n",
    "<div style=\"text-align: right\">Andrea De Simone, Thomas Jacques</div>\n",
    "<div style=\"text-align: right\">arXiv:1807.XXXX</div>\n",
    "***"
   ]
  },
  {
   "cell_type": "code",
   "execution_count": 2,
   "metadata": {
    "collapsed": true
   },
   "outputs": [],
   "source": [
    "%matplotlib inline\n",
    "from __future__ import print_function\n",
    "import numpy as np\n",
    "from matplotlib import pyplot as plt\n",
    "import seaborn as sns\n",
    "import time\n",
    "from random import randint\n",
    "from scipy import stats\n",
    "from sklearn.utils import shuffle\n",
    "from sklearn.neighbors import NearestNeighbors"
   ]
  },
  {
   "cell_type": "markdown",
   "metadata": {},
   "source": [
    "## Nearest Neighbors Class"
   ]
  },
  {
   "cell_type": "code",
   "execution_count": 8,
   "metadata": {
    "collapsed": true
   },
   "outputs": [],
   "source": [
    "class NearestNeighborsClass(object):\n",
    "    \"\"\" \n",
    "    Nearest neighbor density ratio estimator\n",
    "    \"\"\"\n",
    "    \n",
    "    def __init__(self, n_neighbors=2):\n",
    "        \"\"\" \n",
    "        Initialize the class instance.\n",
    "        n_neighbors: number of neighbors for KNN estimator\n",
    "        \"\"\"\n",
    "        self.n_neighbors = n_neighbors\n",
    "\n",
    "\n",
    "    def fit(self, x_benchmark, x_trial):\n",
    "        \"\"\" \n",
    "        Build kd-trees for both samples.\n",
    "        x_benchmark: benchmark (control) sample\n",
    "        x_trial: trial (test) sample\n",
    "        \"\"\"\n",
    "        # number of points in the samples\n",
    "        self.n_benchmark = x_benchmark.shape[0] \n",
    "        self.n_trial = x_trial.shape[0]\n",
    "                    \n",
    "        # build kd-trees for both samples\n",
    "        self.nbrs_benchmark = NearestNeighbors(n_neighbors=self.n_neighbors,\n",
    "                                               algorithm='kd_tree').fit(x_benchmark)\n",
    "        self.nbrs_trial = NearestNeighbors(n_neighbors=self.n_neighbors+1, \n",
    "                                           algorithm='kd_tree').fit(x_trial)\n",
    "\n",
    "    \n",
    "    def compute_distances(self, x_q):\n",
    "        \"\"\" \n",
    "        Compute distances of Kth-NN in B and T from query points X_q.\n",
    "        x_q: sample of query data points at which we evaluate the density ratio.\n",
    "        Return: array of distances of Kth-NN in Benchmark and Trial,  \n",
    "                and array of coordinates (X_q) for each data point in the query sample.\n",
    "        \"\"\"\n",
    "        # get distances of nearest neighbors in Benchmark from Query points\n",
    "        distances_B, _ = self.nbrs_benchmark.kneighbors(x_q)\n",
    "        radii_B = distances_B[:,-1] # distances of Kth-NN\n",
    "        \n",
    "        # get distances of nearest neighbors in Trial from Query points\n",
    "        distances_T, _ = self.nbrs_trial.kneighbors(x_q)\n",
    "        radii_T = distances_T[:,-1] # distances of Kth-NN\n",
    "            \n",
    "        coords = x_q\n",
    "        \n",
    "        return(radii_B, radii_T, coords)"
   ]
  },
  {
   "cell_type": "markdown",
   "metadata": {},
   "source": [
    "## Hypothesis Test Class"
   ]
  },
  {
   "cell_type": "code",
   "execution_count": 188,
   "metadata": {
    "collapsed": true
   },
   "outputs": [],
   "source": [
    "class HypothesisTest(object):\n",
    "    \"\"\" \n",
    "    Class to perform hypothesis testing with \n",
    "    Nearest Neighbors Density Ratio Estimation of pdfs.\n",
    "    \"\"\"\n",
    "    \n",
    "    def __init__(self, x_benchmark, x_trial, K=5, n_perm=100):\n",
    "        \"\"\" \n",
    "        Initialize the class instance.\n",
    "        \"\"\"\n",
    "        self.x_benchmark = x_benchmark\n",
    "        self.x_trial = x_trial\n",
    "        self.K = K\n",
    "        self.n_perm = n_perm\n",
    "        \n",
    "        # Number of points in the samples\n",
    "        self.NB = self.x_benchmark.shape[0] \n",
    "        self.NT = self.x_trial.shape[0] \n",
    "\n",
    "        # Dimensionality of points\n",
    "        self.D = self.x_benchmark.shape[1]\n",
    "        \n",
    "    def TestStatistic(self, x_b, x_t):\n",
    "        \"\"\"\n",
    "        Compute the test statistic using nearest neighbor density ratio estimator.\n",
    "        \"\"\"\n",
    "\n",
    "        # Instantiate NearestNeighbors class\n",
    "        NN = NearestNeighborsClass(n_neighbors = self.K)    \n",
    "\n",
    "        # Build kd-trees with fixed K\n",
    "        NN.fit(x_b, x_t)  \n",
    "\n",
    "        # Compute distances r_{j,S}, r_{j,T} of Kth-NN in S and T, with query=Trial\n",
    "        r_B, r_T, _ = NN.compute_distances(x_t)       \n",
    "        \n",
    "        # Compute estimated density ratio on Trial points\n",
    "        r_hat = np.power(np.divide(r_B, r_T), self.D) * (self.NB/float(self.NT-1))\n",
    "\n",
    "        # Compute test statistic TS (KL divergence) over Trial points\n",
    "        TS =  np.mean( np.log(r_hat) )   \n",
    "    \n",
    "        return(TS)\n",
    "\n",
    "    def PermutationTest(self):\n",
    "        \"\"\"\n",
    "        Permutation Test to reconstruct the distribution \n",
    "        of the test statistic\n",
    "        \"\"\"\n",
    "        # U = union of B and T\n",
    "        union_sample = np.concatenate((self.x_benchmark, self.x_trial), axis=0) \n",
    "        n_samples = self.NB + self.NT \n",
    "\n",
    "        # Initialize array of test statistic values\n",
    "        self.TS_tilde = np.zeros(self.n_perm, dtype=np.float)        \n",
    "        \n",
    "        count=0\n",
    "        print(\"Running Permutations... 0%\")\n",
    "\n",
    "        # loop over different samplings\n",
    "        for i in range(self.n_perm):\n",
    "\n",
    "            progress = int(round(((i+1)/self.n_perm)*100,0))            \n",
    "            progress_list = [25, 50, 100]\n",
    "            if count < len(progress_list) and progress == progress_list[count]:\n",
    "                count+=1\n",
    "                print(\"Running Permutations... {:d}%\".format(progress))\n",
    "\n",
    "            # random sampling U without replacement\n",
    "            x_resampled = shuffle(union_sample)\n",
    "            # assign first NB elements to benchmark\n",
    "            B_resampled = x_resampled[:self.NB] \n",
    "            # assign remaning NT elements to trial \n",
    "            T_resampled = x_resampled[self.NB:] \n",
    "\n",
    "            # Compute the test statistic\n",
    "            self.TS_tilde[i]  = self.TestStatistic(B_resampled, T_resampled)            \n",
    "\n",
    "        \n",
    "    def pvalue(self):\n",
    "        \"\"\"\n",
    "        Perform permutation test and compute the (two-sided) p-value \n",
    "        of the observed value of the test statistic\n",
    "        \"\"\"\n",
    "        self.PermutationTest()\n",
    "        self.TS_obs = self.TestStatistic(self.x_benchmark, self.x_trial)        \n",
    "        \n",
    "        # two-sided p-value from TS distribution\n",
    "        self.p_value = (1 - 0.01 * stats.percentileofscore(self.TS_tilde, abs(self.TS_obs))\n",
    "                        + 0.01 * stats.percentileofscore(self.TS_tilde, -abs(self.TS_obs)) )\n",
    "\n",
    "        print(\"\")\n",
    "        print(\"TS_obs  = {:.4f}\".format(self.TS_obs))\n",
    "        print(\"p-value = {:e}\".format(self.p_value))\n",
    "        \n",
    "    def pvalue_asymptotic(self):\n",
    "        \"\"\"\n",
    "        two-sided p-value from asymptotic normal distribution with mean and variance\n",
    "        of the permutation disitribution.\n",
    "        \"\"\"\n",
    "        mu = np.mean(HT.TS_tilde) \n",
    "        sigma = np.std(HT.TS_tilde) \n",
    "\n",
    "        pv = ( stats.norm.cdf(-abs(HT.TS_obs),loc=mu, scale=sigma) \n",
    "              + stats.norm.sf(abs(HT.TS_obs),loc=mu, scale=sigma) )\n",
    "        print(\"p-value from asymptotic normal = {:e}\".format(pv) )\n",
    "        \n",
    "    def pvalue_test(self, alpha=0.01): \n",
    "        \"\"\"\n",
    "        Compare p-value with alpha.\n",
    "        \"\"\"\n",
    "        CL = int((1-alpha)*100)  # confidence level\n",
    "        \n",
    "        if self.p_value < alpha:\n",
    "            print(\"Null hypothesis rejected at {:d}%CL => distributions are different\".format(CL))\n",
    "        else:\n",
    "            print(\"Null hypothesis NOT rejected => distributions are the same\")\n",
    "\n",
    "    def significance(self):\n",
    "        \"\"\"\n",
    "        Convert p-value to significance Z=InverseCDF(1-p) \n",
    "        of a zero-mean unit-variance normal distribution.\n",
    "        \"\"\"\n",
    "        Z = stats.norm.ppf(1-self.p_value)\n",
    "        print(\"Z = {:.2f} sigma\".format(Z))\n",
    "    \n",
    "    def TestStatisticDistribution(self, n_bins=20):\n",
    "        \"\"\"\n",
    "        Plot Histogram of test statistic distribution.\n",
    "        The 'pvalue' method needs to be evaluated first.\n",
    "        \"\"\"\n",
    "\n",
    "        fig, ax = plt.subplots()\n",
    "        ax.set_xlabel('$\\widetilde{TS}$', size=12)\n",
    "        ax.set_ylabel('$f(\\widetilde{TS}|H_0)$', size=12)\n",
    "\n",
    "        # normalized histogram of test statistic\n",
    "        weights = np.ones_like(self.TS_tilde)/float(len(self.TS_tilde))\n",
    "        ax.hist(self.TS_tilde, bins=n_bins, weights=weights, alpha=0.8)\n",
    "        \n",
    "        ax.grid(False)\n",
    "        plt.show()\n",
    "        \n",
    "        \n",
    "    def PlotGaussianComparison(self, n_bins=20):\n",
    "        \"\"\"\n",
    "        Plot Histogram of test statistic distribution \n",
    "        together with a gaussian with same mean and std.\n",
    "        The 'pvalue' method needs to be evaluated first.\n",
    "        \"\"\"\n",
    "        \n",
    "        fig, ax = plt.subplots()\n",
    "        ax.set_xlabel('$\\widetilde{TS}$', size=12)\n",
    "        ax.set_ylabel('$f(\\widetilde{TS}|H_0)$', size=12)\n",
    "\n",
    "        # normalized histogram of test statistic\n",
    "        weights = np.ones_like(self.TS_tilde)/float(len(self.TS_tilde))\n",
    "        n,bins, _ = ax.hist(self.TS_tilde, bins=n_bins, weights=weights, alpha=0.8)\n",
    "        bin_width = bins[1]-bins[0]\n",
    "        \n",
    "        # plot gaussian distribution \n",
    "        mu = np.mean(self.TS_tilde)\n",
    "        sigma = np.std(self.TS_tilde)\n",
    "        x_ax=np.linspace(bins[0]-bin_width,bins[-1]+bin_width,1000)\n",
    "        rv = stats.norm(loc=mu,scale=sigma)\n",
    "        ax.plot(x_ax, rv.pdf(x_ax)*bin_width, '-', c='r', lw=1, label='gaussian')\n",
    "        ax.set_xlim([bins[0]-bin_width,bins[-1]+bin_width])        \n",
    "        \n",
    "        ax.legend()\n",
    "        ax.grid(False)\n",
    "        plt.show()"
   ]
  },
  {
   "cell_type": "markdown",
   "metadata": {},
   "source": [
    "## Random samples from 2-D gaussian distribution"
   ]
  },
  {
   "cell_type": "code",
   "execution_count": 129,
   "metadata": {
    "collapsed": false
   },
   "outputs": [
    {
     "data": {
      "image/png": "[encoded data removed]",
      "text/plain": [
       "<matplotlib.figure.Figure at 0x10e19f320>"
      ]
     },
     "metadata": {},
     "output_type": "display_data"
    },
    {
     "name": "stdout",
     "output_type": "stream",
     "text": [
      "Benchmark sample: 5000 points\n",
      "Trial sample: 5000 points\n"
     ]
    }
   ],
   "source": [
    "class GaussianData(object):\n",
    "    \"\"\" \n",
    "    Class to generate 2-dimensional Benchmark and Trial \n",
    "    samples from gaussian distributions\n",
    "    \"\"\"\n",
    "    \n",
    "    def __init__(self, n_points=1000):\n",
    "        \"\"\" \n",
    "        Initialize the class instance.\n",
    "        n_neighbors: number of neighbors for KNN estimator\n",
    "        \"\"\"\n",
    "        self.n_points = n_points\n",
    "\n",
    "\n",
    "    def generate_data(self):\n",
    "        \"\"\" \n",
    "        Generate toy data from two-dim Gaussian distributions\n",
    "        \"\"\"\n",
    "        #'''\n",
    "        self.mean_b = np.array(([1.0,1.0]))\n",
    "        self.cov_b  = np.array([[1,0],[0,1]])\n",
    "        self.mean_t = np.array([1.0,1.0])        \n",
    "        self.cov_t  = np.array([[1,0.],[0.,1]]) \n",
    "        #'''\n",
    "        '''\n",
    "        self.mean_b = np.array([1.0,1.0])\n",
    "        self.cov_b  = np.array([[1,0.],[0.,1]])  \n",
    "        self.mean_t = np.array([2.2,1.2])  \n",
    "        self.cov_t  = np.array([[1.,0.],[0.0,1.]])\n",
    "        '''\n",
    "        np.random.seed(0)\n",
    "\n",
    "        L_b = np.linalg.cholesky(self.cov_b)\n",
    "        L_t = np.linalg.cholesky(self.cov_t)\n",
    "\n",
    "        self.x_benchmark = np.dot(L_b,(np.random.randn(self.n_points,2) + self.mean_b).T).T\n",
    "        self.x_trial = np.dot(L_t,(np.random.randn(self.n_points,2) + self.mean_t).T).T\n",
    "    \n",
    "    def KL_divergence(self):\n",
    "        \n",
    "        mean_1 = self.mean_t\n",
    "        cov_1  = self.cov_t\n",
    "        mean_2 = self.mean_b\n",
    "        cov_2  = self.cov_b\n",
    "                \n",
    "        DKL_true = 0.5*( np.linalg.multi_dot([(mean_2-mean_1).T,np.linalg.inv(cov_2),mean_2-mean_1])\n",
    "                          + np.trace(np.dot(np.linalg.inv(cov_2),cov_1))  \n",
    "                          + np.log(np.linalg.det(cov_2)/np.linalg.det(cov_1)) - 2  )\n",
    "        \n",
    "        return(DKL_true)\n",
    "    \n",
    "    def scatter_plot(self):\n",
    "        \"\"\"\n",
    "        Generate plots of benchmark/trial samples in 2D feature space\n",
    "        \"\"\"\n",
    "        fig, ax = plt.subplots()\n",
    "        cmap = sns.cubehelix_palette(8, start=.5, rot=-.75, as_cmap=True)\n",
    "\n",
    "        plt.title('Benchmark and Trial samples', fontsize=16)\n",
    "        \n",
    "        plt.scatter(self.x_benchmark[:,0], self.x_benchmark[:,1], c='magenta',\n",
    "                    alpha=0.5, marker='x',label='Benchmark sample')\n",
    "        plt.scatter(self.x_trial[:,0],self.x_trial[:,1], c='blue',\n",
    "                    alpha=0.2, marker='s',label='Trial sample')\n",
    "\n",
    "        plt.legend(loc='upper left')\n",
    "        plt.show()\n",
    "\n",
    "        \n",
    "#------------------------------------------------------------------------#\n",
    "gdata = GaussianData(n_points=5000)\n",
    "gdata.generate_data()\n",
    "gdata.scatter_plot()\n",
    "\n",
    "X_benchmark = gdata.x_benchmark\n",
    "X_trial = gdata.x_trial\n",
    "#X_trial = X_trial[:3000] # reduce trial sample\n",
    "\n",
    "print(\"Benchmark sample: {:d} points\".format(X_benchmark.shape[0]))\n",
    "print(\"Trial sample: {:d} points\".format(X_trial.shape[0])) "
   ]
  },
  {
   "cell_type": "code",
   "execution_count": 155,
   "metadata": {
    "collapsed": false
   },
   "outputs": [
    {
     "name": "stdout",
     "output_type": "stream",
     "text": [
      "TS (K=5)  = 0.008017818334576331\n",
      "TS (K=20) = 0.0021647287919468136\n",
      "True D_KL =  0.0\n"
     ]
    }
   ],
   "source": [
    "HT = HypothesisTest(X_benchmark, X_trial, K=5)\n",
    "print(\"TS (K=5)  =\",HT.TestStatistic(X_benchmark, X_trial) )\n",
    "\n",
    "HT = HypothesisTest(X_benchmark, X_trial, K=20)\n",
    "print(\"TS (K=20) =\", HT.TestStatistic(X_benchmark, X_trial) )\n",
    "\n",
    "print(\"True D_KL = \", gdata.KL_divergence())"
   ]
  },
  {
   "cell_type": "markdown",
   "metadata": {},
   "source": [
    "## p-value and distribution of test statistic"
   ]
  },
  {
   "cell_type": "code",
   "execution_count": 189,
   "metadata": {
    "collapsed": false
   },
   "outputs": [
    {
     "name": "stdout",
     "output_type": "stream",
     "text": [
      "Running Permutations... 0%\n",
      "Running Permutations... 25%\n",
      "Running Permutations... 50%\n",
      "Running Permutations... 100%\n",
      "\n",
      "TS_obs  = 0.0080\n",
      "p-value = 4.650000e-01\n"
     ]
    }
   ],
   "source": [
    "HT = HypothesisTest(X_benchmark, X_trial, K=5, n_perm=400)\n",
    "HT.pvalue()"
   ]
  },
  {
   "cell_type": "code",
   "execution_count": 191,
   "metadata": {
    "collapsed": false
   },
   "outputs": [
    {
     "name": "stdout",
     "output_type": "stream",
     "text": [
      "Null hypothesis NOT rejected => distributions are the same\n"
     ]
    }
   ],
   "source": [
    "HT.pvalue_test(alpha=0.01)"
   ]
  },
  {
   "cell_type": "code",
   "execution_count": 192,
   "metadata": {
    "collapsed": false
   },
   "outputs": [
    {
     "name": "stdout",
     "output_type": "stream",
     "text": [
      "Z = 0.09 sigma\n",
      "p-value from asymptotic normal = 4.770968e-01\n"
     ]
    }
   ],
   "source": [
    "HT.significance()\n",
    "HT.pvalue_asymptotic()"
   ]
  },
  {
   "cell_type": "code",
   "execution_count": 144,
   "metadata": {
    "collapsed": false
   },
   "outputs": [
    {
     "data": {
      "image/png": "[encoded data removed]",
      "text/plain": [
       "<matplotlib.figure.Figure at 0x103fe5320>"
      ]
     },
     "metadata": {},
     "output_type": "display_data"
    }
   ],
   "source": [
    "HT.TestStatisticDistribution(n_bins=20)"
   ]
  },
  {
   "cell_type": "code",
   "execution_count": 167,
   "metadata": {
    "collapsed": false
   },
   "outputs": [
    {
     "data": {
      "image/png": "[encoded data removed]",
      "text/plain": [
       "<matplotlib.figure.Figure at 0x10dfc82b0>"
      ]
     },
     "metadata": {},
     "output_type": "display_data"
    }
   ],
   "source": [
    "HT.PlotGaussianComparison(n_bins=50)"
   ]
  },
  {
   "cell_type": "code",
   "execution_count": 190,
   "metadata": {
    "collapsed": false
   },
   "outputs": [
    {
     "name": "stdout",
     "output_type": "stream",
     "text": [
      "mean of TS distribution =  -0.0010829193191818588\n",
      "std  of TS distribution =  0.011224821505626377\n"
     ]
    }
   ],
   "source": [
    "print( \"mean of TS distribution = \", np.mean(HT.TS_tilde) )\n",
    "print( \"std  of TS distribution = \", np.std(HT.TS_tilde) )"
   ]
  },
  {
   "cell_type": "code",
   "execution_count": 131,
   "metadata": {
    "collapsed": false
   },
   "outputs": [
    {
     "name": "stdout",
     "output_type": "stream",
     "text": [
      "-0.000143418574733\n",
      "0.00775695897469\n",
      "0.00415999939904\n"
     ]
    }
   ],
   "source": [
    "print( np.mean(HT.TS_tilde) )\n",
    "print( np.std(HT.TS_tilde) )\n",
    "pp = 0.0359\n",
    "print( np.sqrt(pp*(1-pp)/(HT.n_perm)) )"
   ]
  },
  {
   "cell_type": "code",
   "execution_count": null,
   "metadata": {
    "collapsed": true
   },
   "outputs": [],
   "source": [
    "\n",
    "\n",
    "\n",
    "\n",
    "\n",
    "\n",
    "\n",
    "\n",
    "\n"
   ]
  },
  {
   "cell_type": "markdown",
   "metadata": {},
   "source": [
    "## Convergence in the large-sample limit"
   ]
  },
  {
   "cell_type": "code",
   "execution_count": 371,
   "metadata": {
    "collapsed": true
   },
   "outputs": [],
   "source": [
    "p_list = list(range(2,8))\n",
    "ts_3 = list()\n",
    "ts_20 = list()\n",
    "DKL_true = list()\n",
    "\n",
    "for p in p_list:\n",
    "    gdata = GaussianData(n_points=10**p)\n",
    "    gdata.generate_data()\n",
    "\n",
    "    HT3 = HypothesisTest(gdata.x_benchmark, gdata.x_trial, K=3)\n",
    "    ts_3.append(HT3.TestStatistic())\n",
    "    \n",
    "    HT20 = HypothesisTest(gdata.x_benchmark, gdata.x_trial, K=20)    \n",
    "    ts_20.append(HT20.TestStatistic())\n",
    "    \n",
    "\n",
    "DKL_true = [gdata.KL_divergence()]*len(p_list)    \n",
    "p10=[10**p for p in p_list]"
   ]
  },
  {
   "cell_type": "code",
   "execution_count": 373,
   "metadata": {
    "collapsed": false,
    "scrolled": true
   },
   "outputs": [
    {
     "data": {
      "image/png": "[encoded data removed]",
      "text/plain": [
       "<matplotlib.figure.Figure at 0x1a1586b160>"
      ]
     },
     "metadata": {},
     "output_type": "display_data"
    }
   ],
   "source": [
    "sns.set_style('whitegrid')\n",
    "fig, ax = plt.subplots()\n",
    "\n",
    "ax.set_xlabel('$N_{sample}$')\n",
    "ax.set_ylabel('$TS$')\n",
    "\n",
    "ax.semilogx(p10, DKL_true, color='black', linestyle='--', linewidth=1, \n",
    "           markersize=10, label='True')\n",
    "ax.semilogx(p10, ts_3, marker='s',color='blue', linestyle='-', linewidth=1, \n",
    "           markersize=10, label='$K=3$')\n",
    "ax.semilogx(p10, ts_20, marker='X',color='brown', linestyle='-', linewidth=1, \n",
    "           markersize=10, label='$K=20$')\n",
    "\n",
    "ax.legend(loc='upper right')\n",
    "\n",
    "ax.grid()\n",
    "#plt.savefig('../plots/convergence_2Dgaussians.png')\n",
    "plt.show()\n"
   ]
  }
 ],
 "metadata": {
  "kernelspec": {
   "display_name": "Python 3",
   "language": "python",
   "name": "python3"
  },
  "language_info": {
   "codemirror_mode": {
    "name": "ipython",
    "version": 3
   },
   "file_extension": ".py",
   "mimetype": "text/x-python",
   "name": "python",
   "nbconvert_exporter": "python",
   "pygments_lexer": "ipython3",
   "version": "3.5.4"
  }
 },
 "nbformat": 4,
 "nbformat_minor": 2
}
